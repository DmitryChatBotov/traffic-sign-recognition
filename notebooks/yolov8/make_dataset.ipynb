{
 "cells": [
  {
   "cell_type": "markdown",
   "id": "0141a838-67b7-4f16-8c57-76a9447eaa48",
   "metadata": {},
   "source": [
    "В данном ноутбуке происходит загрузка датасета из kaggle и его конвертация в YOLO формат"
   ]
  },
  {
   "cell_type": "markdown",
   "id": "2226c53d-f19b-4739-976f-5226c5c18f38",
   "metadata": {},
   "source": [
    "## Скачивание датасета"
   ]
  },
  {
   "cell_type": "code",
   "execution_count": 33,
   "id": "781807c6-33f8-4e3f-8160-2038f8d2855e",
   "metadata": {},
   "outputs": [],
   "source": [
    "import os\n",
    "from pathlib import Path\n",
    "from collections import Counter, defaultdict\n",
    "from shutil import rmtree, copy\n",
    "from tqdm import tqdm"
   ]
  },
  {
   "cell_type": "code",
   "execution_count": 5,
   "id": "d385db4a-3e41-4a5f-87f5-5721a5265b78",
   "metadata": {},
   "outputs": [],
   "source": [
    "os.environ[\"KAGGLE_USERNAME\"] = \"<введите имя пользователя>\"\n",
    "os.environ[\"KAGGLE_KEY\"] = \"<введите ключ>\""
   ]
  },
  {
   "cell_type": "markdown",
   "id": "ae396b5f-aaa2-40fe-abf2-339b790bcf73",
   "metadata": {},
   "source": [
    "Авторизовываемся в kaggle"
   ]
  },
  {
   "cell_type": "code",
   "execution_count": 12,
   "id": "003fb28b-e232-4d89-991f-ce4bd5f62d96",
   "metadata": {},
   "outputs": [],
   "source": [
    "from kaggle import api\n",
    "\n",
    "api.authenticate()"
   ]
  },
  {
   "cell_type": "code",
   "execution_count": 13,
   "id": "021fe8bf-18fe-4a8e-92df-074d74c85b1a",
   "metadata": {},
   "outputs": [],
   "source": [
    "def download_dataset(dataset_id: str, output_dataset_path: Path | str) -> None:\n",
    "    \"\"\"Скачивает датасет из kaggle по id.\"\"\"\n",
    "    api.dataset_download_files(dataset_id, path=output_dataset_path, unzip=True, quiet=False)"
   ]
  },
  {
   "cell_type": "markdown",
   "id": "9f90bec8-c455-4cd1-a928-a2c60432a076",
   "metadata": {},
   "source": [
    "Скачиваем датасет"
   ]
  },
  {
   "cell_type": "code",
   "execution_count": 14,
   "id": "ef711a2d-01f4-4efb-91d4-87ab2af51e6e",
   "metadata": {},
   "outputs": [
    {
     "name": "stdout",
     "output_type": "stream",
     "text": [
      "Downloading rtsd-dataset.zip to data\n"
     ]
    },
    {
     "name": "stderr",
     "output_type": "stream",
     "text": [
      "100%|██████████| 17.1G/17.1G [38:57<00:00, 7.87MB/s]  \n"
     ]
    },
    {
     "name": "stdout",
     "output_type": "stream",
     "text": [
      "\n"
     ]
    }
   ],
   "source": [
    "download_dataset(dataset_id = \"watchman/rtsd-dataset\", output_dataset_path = \"data\")"
   ]
  },
  {
   "cell_type": "markdown",
   "id": "210a0394",
   "metadata": {},
   "source": [
    "## EDA"
   ]
  },
  {
   "cell_type": "code",
   "execution_count": 28,
   "id": "497fa195",
   "metadata": {},
   "outputs": [],
   "source": [
    "##тут точно будут картинки"
   ]
  },
  {
   "cell_type": "code",
   "execution_count": 44,
   "id": "c068fa86",
   "metadata": {},
   "outputs": [],
   "source": [
    "dataset_path = Path('data')"
   ]
  },
  {
   "cell_type": "code",
   "execution_count": 84,
   "id": "7d577b34",
   "metadata": {},
   "outputs": [],
   "source": [
    "with open(dataset_path / 'train_anno.json') as file:\n",
    "    train_anno = json.loads(file.read())"
   ]
  },
  {
   "cell_type": "code",
   "execution_count": null,
   "id": "37313a9b",
   "metadata": {},
   "outputs": [],
   "source": [
    "with open(dataset_path / 'val_anno.json') as file:\n",
    "    val_anno = json.loads(file.read())"
   ]
  },
  {
   "cell_type": "code",
   "execution_count": 85,
   "id": "8aed938f",
   "metadata": {},
   "outputs": [],
   "source": [
    "class_names = {item['id']: item['name'] for item in train_anno['categories']}"
   ]
  },
  {
   "cell_type": "code",
   "execution_count": 86,
   "id": "d5328572",
   "metadata": {},
   "outputs": [],
   "source": [
    "samples_count_by_category = Counter([class_names[item['category_id']] for item in train_anno['annotations']])"
   ]
  },
  {
   "cell_type": "code",
   "execution_count": 87,
   "id": "d8ce8490",
   "metadata": {},
   "outputs": [],
   "source": [
    "invalid_categories = {cat_name:cat_count for cat_name, cat_count in samples_count_by_category.items() if cat_count < 25}\n"
   ]
  },
  {
   "cell_type": "code",
   "execution_count": 88,
   "id": "03b4b115",
   "metadata": {},
   "outputs": [],
   "source": [
    "def filter_invalid_categories(annotation, invalid_categories:dict[str, int]):\n",
    "    valid_annotations = [ann for ann in annotation['annotations'] if ann['category_id'] not in invalid_categories.values()]\n",
    "    valid_categories = [cat for cat in annotation['categories'] if cat['id'] not in invalid_categories]\n",
    "    valid_image_ids = set(ann['image_id'] for ann in valid_annotations)\n",
    "    valid_images = [img for img in annotation['images'] if img['id'] in valid_image_ids]\n",
    "    annotation['annotations'] = valid_annotations\n",
    "    annotation['categories']  = valid_categories\n",
    "    annotation['images'] = valid_images\n",
    "    return annotation"
   ]
  },
  {
   "cell_type": "code",
   "execution_count": 89,
   "id": "cdf560d1",
   "metadata": {},
   "outputs": [],
   "source": [
    "with open(dataset_path / 'train_annotation.json', 'w') as f:\n",
    "    json.dump(filter_invalid_categories(train_anno, invalid_categories), f)"
   ]
  },
  {
   "cell_type": "code",
   "execution_count": 90,
   "id": "b982aa77",
   "metadata": {},
   "outputs": [],
   "source": [
    "with open(dataset_path / 'val_annotation.json', 'w') as f:\n",
    "    json.dump(filter_invalid_categories(val_anno, invalid_categories), f)"
   ]
  },
  {
   "cell_type": "markdown",
   "id": "3de752ee",
   "metadata": {},
   "source": [
    "Уберем невалидные лейблы из labels.txt"
   ]
  },
  {
   "cell_type": "code",
   "execution_count": 91,
   "id": "2a4f92da",
   "metadata": {},
   "outputs": [],
   "source": [
    "with open(dataset_path / \"labels.txt\") as file:\n",
    "    labels = file.read().splitlines()\n",
    "    \n",
    "labels = [label for label in labels if label not in invalid_categories.keys()]\n",
    "\n",
    "with open(dataset_path / \"valid_labels.txt\", 'w') as file:\n",
    "     for label in labels:\n",
    "        file.write(f\"{label}\\n\")"
   ]
  },
  {
   "cell_type": "markdown",
   "id": "54bf80c8",
   "metadata": {},
   "source": [
    "## Конвертация в YOLO формат"
   ]
  },
  {
   "cell_type": "markdown",
   "id": "ef917d7e",
   "metadata": {},
   "source": [
    "Так как датасет в формате COCO, необходимо его конвертировать в YOLO формат"
   ]
  },
  {
   "cell_type": "code",
   "execution_count": 92,
   "id": "13a5fab0",
   "metadata": {},
   "outputs": [],
   "source": [
    "output_dataset_path = Path(\"output_data\")"
   ]
  },
  {
   "cell_type": "code",
   "execution_count": 93,
   "id": "52d270fc",
   "metadata": {},
   "outputs": [],
   "source": [
    "if output_dataset_path.exists():\n",
    "    rmtree(output_dataset_path)\n",
    "output_dataset_path.mkdir(parents=True)"
   ]
  },
  {
   "cell_type": "code",
   "execution_count": null,
   "id": "040acdcc",
   "metadata": {},
   "outputs": [],
   "source": [
    "def convert_coco_json(annotation_path: Path | str, output_dir: Path | str) -> None:\n",
    "    \"\"\"Конвертирует датасет в формате COCO в формат YOLO.\"\"\"\n",
    "    yolo_annotation_path: Path = Path(output_dir)  / annotation_path.stem / \"labels\"\n",
    "    yolo_annotation_path.mkdir(parents=True)\n",
    "    with open(annotation_path) as f:\n",
    "        data = json.load(f)\n",
    "\n",
    "    images = {'%g' % x['id']: x for x in data['images']}\n",
    "    img_to_annotaitons = defaultdict(list)\n",
    "    for ann in data['annotations']:\n",
    "        img_to_annotaitons[ann['image_id']].append(ann)\n",
    "\n",
    "    # Write labels file\n",
    "    for img_id, anns in tqdm(img_to_annotaitons.items(), desc=f'Annotations {annotation_path}'):\n",
    "        img = images['%g' % img_id]\n",
    "        h, w, filename = img['height'], img['width'], img['file_name'].split('/')[1]\n",
    "\n",
    "        bboxes = []\n",
    "        for ann in anns:\n",
    "            if ann['iscrowd']:\n",
    "                continue\n",
    "            box = np.array(ann['bbox'], dtype=np.float64)\n",
    "            box[:2] += box[2:] / 2 \n",
    "            box[[0, 2]] /= w \n",
    "            box[[1, 3]] /= h  \n",
    "            if box[2] <= 0 or box[3] <= 0: \n",
    "                continue\n",
    "\n",
    "            cls = ann['category_id'] - 1 \n",
    "            box = [cls] + box.tolist()\n",
    "            if box not in bboxes:\n",
    "                bboxes.append(box)\n",
    "\n",
    "        # Write\n",
    "        with open((yolo_annotation_path  / Path(filename).name).with_suffix('.txt'), 'a') as file:\n",
    "            for i in range(len(bboxes)):\n",
    "                line = *(bboxes[i]),\n",
    "                file.write(('%g ' * len(line)).rstrip() % line + '\\n')\n"
   ]
  },
  {
   "cell_type": "code",
   "execution_count": 94,
   "id": "29bb7f89",
   "metadata": {},
   "outputs": [
    {
     "name": "stderr",
     "output_type": "stream",
     "text": [
      "Annotations data/train_annotation.json: 100%|██████████| 29479/29479 [00:02<00:00, 14217.27it/s]\n",
      "Annotations data/val_annotation.json: 100%|██████████| 2715/2715 [00:00<00:00, 14624.06it/s]\n"
     ]
    }
   ],
   "source": [
    "convert_coco_json(dataset_path / \"train_annotation.json\", output_dataset_path)\n",
    "convert_coco_json(dataset_path / \"val_annotation.json\", output_dataset_path)"
   ]
  },
  {
   "cell_type": "markdown",
   "id": "84ebac8c",
   "metadata": {},
   "source": [
    "Добавим изображения в датасет YOLO"
   ]
  },
  {
   "cell_type": "code",
   "execution_count": 95,
   "id": "069d5faa",
   "metadata": {},
   "outputs": [],
   "source": [
    "train_labels = [filename.stem for filename in (output_dataset_path / \"train_annotation/labels\").iterdir()]\n",
    "val_labels = [filename.stem for filename in (output_dataset_path / 'val_annotation/labels').iterdir()]"
   ]
  },
  {
   "cell_type": "code",
   "execution_count": 96,
   "id": "cabb8bbe",
   "metadata": {},
   "outputs": [],
   "source": [
    "val_images_path = (output_dataset_path / \"val_annotation/images\")\n",
    "val_images_path.mkdir(parents=True, exist_ok=True)\n",
    "train_images_path = (output_dataset_path / \"train_annotation/images\")\n",
    "train_images_path.mkdir(parents=True, exist_ok=True)"
   ]
  },
  {
   "cell_type": "code",
   "execution_count": 97,
   "id": "abbe6191",
   "metadata": {},
   "outputs": [
    {
     "name": "stderr",
     "output_type": "stream",
     "text": [
      "Image copy...: 179138it [01:24, 2111.16it/s]\n"
     ]
    }
   ],
   "source": [
    "images_path = dataset_path  / 'rtsd-frames/rtsd-frames'\n",
    "for filename in tqdm(images_path.iterdir(),  desc=f'Image copy...'):\n",
    "    if filename.stem in train_labels:\n",
    "        copy(filename, train_images_path / filename.name)\n",
    "    if filename.stem in val_labels:\n",
    "         copy(filename, val_images_path  / filename.name)"
   ]
  },
  {
   "cell_type": "markdown",
   "id": "3290dd7d",
   "metadata": {},
   "source": [
    "Создадим файл traffic-sign.yaml"
   ]
  },
  {
   "cell_type": "code",
   "execution_count": 98,
   "id": "c18ec2b8",
   "metadata": {},
   "outputs": [],
   "source": [
    "with open(dataset_path / \"valid_labels.txt\") as file:\n",
    "    labels = file.read().splitlines()"
   ]
  },
  {
   "cell_type": "code",
   "execution_count": 99,
   "id": "3b55356e",
   "metadata": {},
   "outputs": [],
   "source": [
    "with open(output_dataset_path / \"traffic-sign.yaml\", 'w') as file:\n",
    "    file.write(f\"train: {train_images_path}\\n\")\n",
    "    file.write(f\"val: {val_images_path}\\n\")\n",
    "    file.write(f\"nc: {len(labels)}\\n\")\n",
    "    file.write(f\"names: {labels}\")"
   ]
  },
  {
   "cell_type": "code",
   "execution_count": 100,
   "id": "b8999a44",
   "metadata": {},
   "outputs": [
    {
     "name": "stdout",
     "output_type": "stream",
     "text": [
      "train: output_data/train_annotation/images\r\n",
      "val: output_data/val_annotation/images\r\n",
      "nc: 117\r\n",
      "names: ['2_1', '1_23', '1_17', '3_24', '8_2_1', '5_20', '5_19_1', '5_16', '3_25', '6_16', '2_2', '2_4', '8_13_1', '4_2_1', '1_20_3', '1_25', '3_4', '8_3_2', '3_4_1', '4_1_6', '4_2_3', '4_1_1', '1_33', '5_15_5', '3_27', '1_15', '4_1_2_1', '6_3_1', '8_1_1', '6_7', '5_15_3', '7_3', '1_19', '6_4', '8_1_4', '1_16', '1_11_1', '6_6', '5_15_1', '7_2', '5_15_2', '7_12', '3_18', '5_6', '5_5', '7_4', '4_1_2', '8_2_2', '7_11', '1_22', '1_27', '2_3_2', '5_15_2_2', '1_8', '3_13', '2_3', '2_3_3', '7_7', '1_11', '8_13', '1_12_2', '1_20', '1_12', '3_32', '2_5', '3_1', '4_8_2', '3_20', '3_2', '5_22', '7_5', '8_4_1', '3_14', '1_2', '1_20_2', '4_1_4', '7_6', '8_3_1', '4_3', '4_1_5', '8_2_3', '8_2_4', '3_10', '4_2_2', '7_1', '3_28', '4_1_3', '5_3', '3_31', '6_2', '1_21', '3_21', '1_13', '1_14', '6_15_2', '2_6', '3_18_2', '4_1_2_2', '3_19', '8_5_4', '5_15_7', '5_14', '5_21', '1_1', '6_15_1', '8_6_4', '8_15', '3_11', '3_30', '5_7_1', '5_7_2', '1_5', '3_29', '5_11', '3_12', '5_8', '8_5_2']"
     ]
    }
   ],
   "source": [
    "!cat output_data/traffic-sign.yaml"
   ]
  }
 ],
 "metadata": {
  "kernelspec": {
   "display_name": "Python 3 (ipykernel)",
   "language": "python",
   "name": "python3"
  },
  "language_info": {
   "codemirror_mode": {
    "name": "ipython",
    "version": 3
   },
   "file_extension": ".py",
   "mimetype": "text/x-python",
   "name": "python",
   "nbconvert_exporter": "python",
   "pygments_lexer": "ipython3",
   "version": "3.11.0rc1"
  },
  "varInspector": {
   "cols": {
    "lenName": 16,
    "lenType": 16,
    "lenVar": 40
   },
   "kernels_config": {
    "python": {
     "delete_cmd_postfix": "",
     "delete_cmd_prefix": "del ",
     "library": "var_list.py",
     "varRefreshCmd": "print(var_dic_list())"
    },
    "r": {
     "delete_cmd_postfix": ") ",
     "delete_cmd_prefix": "rm(",
     "library": "var_list.r",
     "varRefreshCmd": "cat(var_dic_list()) "
    }
   },
   "types_to_exclude": [
    "module",
    "function",
    "builtin_function_or_method",
    "instance",
    "_Feature"
   ],
   "window_display": false
  }
 },
 "nbformat": 4,
 "nbformat_minor": 5
}
